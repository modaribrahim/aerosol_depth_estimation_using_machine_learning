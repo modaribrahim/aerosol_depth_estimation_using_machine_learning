{
 "cells": [
  {
   "cell_type": "code",
   "execution_count": 1,
   "id": "25989e75-6fe3-40e8-bfc2-f2ec078ae9db",
   "metadata": {},
   "outputs": [],
   "source": [
    "import numpy as np\n",
    "import torch\n",
    "import rasterio\n",
    "import pandas as pd\n",
    "import torchvision.transforms as T\n",
    "from catboost import CatBoostRegressor, Pool\n",
    "from sklearn.model_selection import KFold , GroupKFold\n",
    "from sklearn.metrics import mean_squared_error\n",
    "import joblib\n",
    "import matplotlib.pyplot as plt\n",
    "from scipy.stats import kurtosis, skew\n",
    "from sklearn.preprocessing import StandardScaler\n",
    "from tqdm import tqdm\n",
    "from scipy.stats import pearsonr ,kurtosis, skew, entropy\n",
    "from skimage.feature import graycomatrix, graycoprops\n",
    "from skimage.color import rgb2gray\n",
    "from skimage import exposure\n",
    "import itertools\n",
    "from tqdm import tqdm\n",
    "import optuna\n",
    "from scipy.stats import kurtosis, skew\n",
    "import cv2\n",
    "from sklearn.cluster import KMeans\n",
    "\n",
    "pd.options.mode.chained_assignment = None  # default='warn'"
   ]
  },
  {
   "cell_type": "code",
   "execution_count": 2,
   "id": "88c59f6e-eb7a-4b6c-a71a-61214fd04480",
   "metadata": {},
   "outputs": [],
   "source": [
    "test_df = pd.read_csv(\"/home/modar/Compete/Data/sample_answer.csv\",header=None)\n",
    "test_df.columns = [\"file\",\"aod\"]"
   ]
  },
  {
   "cell_type": "code",
   "execution_count": 3,
   "id": "99fd8224-a99c-4397-95f2-fda9ff3af083",
   "metadata": {},
   "outputs": [
    {
     "data": {
      "text/plain": [
       "((4104, 980), (1489, 2355), (1489,), (4104,))"
      ]
     },
     "execution_count": 3,
     "metadata": {},
     "output_type": "execute_result"
    }
   ],
   "source": [
    "train_features = np.load(\"/home/modar/Compete/preprocessed_data/train_features_root.npy\")\n",
    "test_features = np.load(\"/home/modar/Compete/preprocessed_data/test_features_root.npy\")\n",
    "train_targets = np.load(\"/home/modar/Compete/preprocessed_data/train_labels_root.npy\")\n",
    "train_groups = np.load(\"/home/modar/Compete/preprocessed_data/train_groups_root.npy\")\n",
    "#augment_train_features = np.load(\"/home/modar/Compete/preprocessed_data/augment_train_features.npy\")\n",
    "#augment_train_targets = np.load(\"/home/modar/Compete/preprocessed_data/augment_train_labels.npy\")\n",
    "#feats_not_processed = np.load(\"/home/modar/Compete/preprocessed_data/train_features_root_before_processing.npy\") \n",
    "train_features.shape , test_features.shape , train_targets.shape , train_groups.shape#, augment_train_features.shape , augment_train_targets.shape"
   ]
  },
  {
   "cell_type": "code",
   "execution_count": 5,
   "id": "b0b3c3d2-cb6b-4b4f-94a1-048e257b552f",
   "metadata": {},
   "outputs": [],
   "source": [
    "\n",
    "import logging\n",
    "\n",
    "\n",
    "logger = logging.getLogger()\n",
    "logger.setLevel(logging.INFO) \n",
    "file_handler = logging.FileHandler('train_catboosts.log')\n",
    "file_handler.setLevel(logging.INFO)\n",
    "\n",
    "console_handler = logging.StreamHandler()\n",
    "console_handler.setLevel(logging.INFO)\n",
    "\n",
    "formatter = logging.Formatter('%(asctime)s - %(levelname)s - %(message)s')\n",
    "file_handler.setFormatter(formatter)\n",
    "console_handler.setFormatter(formatter)\n",
    "\n",
    "logger.addHandler(file_handler)\n",
    "logger.addHandler(console_handler)"
   ]
  },
  {
   "cell_type": "code",
   "execution_count": 7,
   "id": "e710f1a5-1332-488f-92d9-d7a854b85b5c",
   "metadata": {},
   "outputs": [],
   "source": [
    "def train_catboost(X_data, y_data, catboost_params):\n",
    "    kf = KFold(n_splits=10, shuffle=True, random_state=2004)\n",
    "    \n",
    "    oof_predictions = []\n",
    "    models = []\n",
    "    fold_results = []\n",
    "\n",
    "    for fold, (train_idx, valid_idx) in enumerate(kf.split(X_data)):\n",
    "        logger.info(f\"Training fold {fold + 1}\")\n",
    "        \n",
    "        X_train, X_valid = X_data[train_idx], X_data\n",
    "        y_train, y_valid = y_data[train_idx], y_data\n",
    "        train_pool = Pool(X_train, y_train)\n",
    "        valid_pool = Pool(X_valid, y_valid)\n",
    "        model = CatBoostRegressor(**catboost_params)\n",
    "        \n",
    "        model.fit(train_pool, eval_set=valid_pool, verbose=100)\n",
    "        models.append(model)\n",
    "        \n",
    "        oof_predictions.append(model.predict(X_valid))\n",
    "        pearson_corr = pearsonr(y_valid, oof_predictions[fold])[0]\n",
    "        fold_results.append(pearson_corr)\n",
    "        logger.info(f\"Pearson R for fold {fold + 1}: {pearson_corr:.4f}\")\n",
    "    oof_predictions = np.array(oof_predictions)\n",
    "    oof_predictions = np.mean(oof_predictions,axis=0)\n",
    "    overall_pearson_corr = pearsonr(y_data, oof_predictions)[0]\n",
    "    logger.info(f\"Overall Pearson R: {overall_pearson_corr:.4f}\")\n",
    "\n",
    "    return models, oof_predictions\n",
    "\n",
    "def train_catboost_groups(X_data, y_data, groups, catboost_params):\n",
    "    gkf = GroupKFold(n_splits=5)\n",
    "\n",
    "    oof_predictions = np.zeros(len(y_data))\n",
    "    models = []\n",
    "    fold_results = []\n",
    "\n",
    "    for fold, (train_idx, valid_idx) in enumerate(gkf.split(X_data, y_data, groups=groups)):\n",
    "        logger.info(f\"Training fold {fold + 1}\")\n",
    "        \n",
    "        X_train, X_valid = X_data[train_idx], X_data[valid_idx]\n",
    "        y_train, y_valid = y_data[train_idx], y_data[valid_idx]\n",
    "        \n",
    "        train_pool = Pool(X_train, y_train)\n",
    "        valid_pool = Pool(X_valid, y_valid)\n",
    "        \n",
    "        model = CatBoostRegressor(**catboost_params)\n",
    "        model.fit(train_pool, eval_set=valid_pool, verbose=100)\n",
    "        models.append(model)\n",
    "        \n",
    "        oof_predictions[valid_idx] = model.predict(X_valid)\n",
    "        \n",
    "        pearson_corr = pearsonr(y_valid, oof_predictions[valid_idx])[0]\n",
    "        fold_results.append(pearson_corr)\n",
    "        logger.info(f\"Pearson R for fold {fold + 1}: {pearson_corr:.4f}\")\n",
    "    \n",
    "    overall_pearson_corr = pearsonr(y_data, oof_predictions)[0]\n",
    "    logger.info(f\"Overall Pearson R: {overall_pearson_corr:.4f}\")\n",
    "\n",
    "    return models, oof_predictions"
   ]
  },
  {
   "cell_type": "code",
   "execution_count": null,
   "id": "8cabbb5d-b818-4a4d-833d-484e1497e51d",
   "metadata": {},
   "outputs": [],
   "source": [
    "def objective(trial):\n",
    "    catboost_params = {\n",
    "        'iterations': trial.suggest_int('iterations', 1000, 1300),\n",
    "        'depth': trial.suggest_int('depth', 6, 7),\n",
    "        'learning_rate': trial.suggest_float('learning_rate', 0.005, 0.07),\n",
    "        'l2_leaf_reg': trial.suggest_float('l2_leaf_reg', 1, 10),\n",
    "    }\n",
    "\n",
    "    models, oof_predictions = train_catboost(train_features, train_targets, catboost_params)\n",
    "\n",
    "    overall_pearson_corr = pearsonr(train_targets, oof_predictions)[0]\n",
    "\n",
    "    return -overall_pearson_corr\n"
   ]
  },
  {
   "cell_type": "code",
   "execution_count": null,
   "id": "4df5514e-f428-4656-8780-ee53de01906c",
   "metadata": {},
   "outputs": [],
   "source": [
    "########################## Use Optuna to finb best parameters############################################################################################################\n",
    "\n",
    "study_path = '/home/modar/Compete/catboost_study_0.005.pkl'\n",
    "try:\n",
    "    study = joblib.load(study_path)\n",
    "    print(\"Loaded existing study.\")\n",
    "except FileNotFoundError:\n",
    "    study = optuna.create_study(direction='minimize')\n",
    "    print(\"Created new study.\")\n",
    "\n",
    "try:\n",
    "    study.optimize(objective, n_trials=3)\n",
    "    \n",
    "    joblib.dump(study, study_path)\n",
    "    print(\"Study saved.\")\n",
    "except KeyboardInterrupt:\n",
    "    print(\"Optimization interrupted. Saving the current study...\")\n",
    "    joblib.dump(study, study_path)\n",
    "\n",
    "print(\"Best trial:\")\n",
    "trial = study.best_trial\n",
    "\n",
    "print(f\"Value: {-trial.value}\") \n",
    "print(\"Best hyperparameters: \", trial.params)\n",
    "\n",
    "best_params = trial.params\n",
    "models, oof_predictions = train_catboost(train_features, train_targets, best_params)\n",
    "\n",
    "########################################################################################################################################################################################################################"
   ]
  },
  {
   "cell_type": "code",
   "execution_count": 20,
   "id": "5a6ddb77-d32b-4f4b-8c8f-5698b77b625c",
   "metadata": {},
   "outputs": [
    {
     "name": "stderr",
     "output_type": "stream",
     "text": [
      "2024-10-30 22:45:25,995 - INFO - Training fold 1\n"
     ]
    },
    {
     "name": "stdout",
     "output_type": "stream",
     "text": [
      "0:\tlearn: 0.2172687\ttest: 0.2138645\tbest: 0.2138645 (0)\ttotal: 277ms\tremaining: 6m 54s\n",
      "100:\tlearn: 0.0564738\ttest: 0.0563951\tbest: 0.0563951 (100)\ttotal: 34.2s\tremaining: 8m 8s\n",
      "200:\tlearn: 0.0400333\ttest: 0.0409608\tbest: 0.0409608 (200)\ttotal: 1m 8s\tremaining: 7m 34s\n",
      "300:\tlearn: 0.0311474\ttest: 0.0328667\tbest: 0.0328667 (300)\ttotal: 1m 39s\tremaining: 6m 49s\n",
      "400:\tlearn: 0.0255462\ttest: 0.0279574\tbest: 0.0279574 (400)\ttotal: 2m 16s\tremaining: 6m 26s\n",
      "500:\tlearn: 0.0213383\ttest: 0.0244122\tbest: 0.0244122 (500)\ttotal: 2m 48s\tremaining: 5m 46s\n",
      "600:\tlearn: 0.0181666\ttest: 0.0218686\tbest: 0.0218686 (600)\ttotal: 3m 30s\tremaining: 5m 25s\n",
      "700:\tlearn: 0.0156509\ttest: 0.0199635\tbest: 0.0199635 (700)\ttotal: 4m 7s\tremaining: 4m 52s\n",
      "800:\tlearn: 0.0136475\ttest: 0.0185616\tbest: 0.0185616 (800)\ttotal: 4m 43s\tremaining: 4m 17s\n",
      "900:\tlearn: 0.0119092\ttest: 0.0174170\tbest: 0.0174170 (900)\ttotal: 5m 18s\tremaining: 3m 39s\n",
      "1000:\tlearn: 0.0105472\ttest: 0.0165661\tbest: 0.0165661 (1000)\ttotal: 5m 57s\tremaining: 3m 5s\n",
      "1100:\tlearn: 0.0093472\ttest: 0.0158767\tbest: 0.0158767 (1100)\ttotal: 6m 32s\tremaining: 2m 27s\n",
      "1200:\tlearn: 0.0083143\ttest: 0.0153238\tbest: 0.0153238 (1200)\ttotal: 7m 6s\tremaining: 1m 50s\n",
      "1300:\tlearn: 0.0073868\ttest: 0.0148691\tbest: 0.0148691 (1300)\ttotal: 7m 39s\tremaining: 1m 12s\n",
      "1400:\tlearn: 0.0065585\ttest: 0.0144940\tbest: 0.0144940 (1400)\ttotal: 8m 8s\tremaining: 35.7s\n"
     ]
    },
    {
     "name": "stderr",
     "output_type": "stream",
     "text": [
      "2024-10-30 22:52:14,533 - INFO - Pearson R for fold 1: 0.9979\n",
      "2024-10-30 22:52:14,534 - INFO - Training fold 2\n"
     ]
    },
    {
     "name": "stdout",
     "output_type": "stream",
     "text": [
      "1499:\tlearn: 0.0058674\ttest: 0.0142130\tbest: 0.0142130 (1499)\ttotal: 8m 34s\tremaining: 0us\n",
      "\n",
      "bestTest = 0.01421302193\n",
      "bestIteration = 1499\n",
      "\n",
      "0:\tlearn: 0.2130346\ttest: 0.2135722\tbest: 0.2135722 (0)\ttotal: 282ms\tremaining: 7m 2s\n",
      "100:\tlearn: 0.0562592\ttest: 0.0564693\tbest: 0.0564693 (100)\ttotal: 29.2s\tremaining: 6m 52s\n",
      "200:\tlearn: 0.0398611\ttest: 0.0410979\tbest: 0.0410979 (200)\ttotal: 58.3s\tremaining: 6m 22s\n",
      "300:\tlearn: 0.0308139\ttest: 0.0328876\tbest: 0.0328876 (300)\ttotal: 1m 24s\tremaining: 5m 42s\n",
      "400:\tlearn: 0.0252461\ttest: 0.0280885\tbest: 0.0280885 (400)\ttotal: 1m 56s\tremaining: 5m 23s\n",
      "500:\tlearn: 0.0210813\ttest: 0.0246565\tbest: 0.0246565 (500)\ttotal: 2m 25s\tremaining: 4m 54s\n",
      "600:\tlearn: 0.0179424\ttest: 0.0221736\tbest: 0.0221736 (600)\ttotal: 2m 52s\tremaining: 4m 20s\n",
      "700:\tlearn: 0.0154545\ttest: 0.0203292\tbest: 0.0203292 (700)\ttotal: 3m 18s\tremaining: 3m 49s\n",
      "800:\tlearn: 0.0134105\ttest: 0.0189230\tbest: 0.0189230 (800)\ttotal: 3m 45s\tremaining: 3m 18s\n",
      "900:\tlearn: 0.0117207\ttest: 0.0178346\tbest: 0.0178346 (900)\ttotal: 4m 19s\tremaining: 2m 54s\n",
      "1000:\tlearn: 0.0102563\ttest: 0.0169600\tbest: 0.0169600 (1000)\ttotal: 4m 51s\tremaining: 2m 26s\n",
      "1100:\tlearn: 0.0090990\ttest: 0.0163452\tbest: 0.0163452 (1100)\ttotal: 5m 18s\tremaining: 1m 56s\n",
      "1200:\tlearn: 0.0081149\ttest: 0.0158497\tbest: 0.0158497 (1200)\ttotal: 5m 52s\tremaining: 1m 28s\n",
      "1300:\tlearn: 0.0072601\ttest: 0.0154533\tbest: 0.0154533 (1300)\ttotal: 6m 19s\tremaining: 58.6s\n",
      "1400:\tlearn: 0.0064662\ttest: 0.0151264\tbest: 0.0151264 (1400)\ttotal: 6m 45s\tremaining: 29s\n"
     ]
    },
    {
     "name": "stderr",
     "output_type": "stream",
     "text": [
      "2024-10-30 22:58:58,134 - INFO - Pearson R for fold 2: 0.9977\n",
      "2024-10-30 22:58:58,135 - INFO - Training fold 3\n"
     ]
    },
    {
     "name": "stdout",
     "output_type": "stream",
     "text": [
      "1499:\tlearn: 0.0057972\ttest: 0.0148703\tbest: 0.0148703 (1499)\ttotal: 7m 12s\tremaining: 0us\n",
      "\n",
      "bestTest = 0.01487027568\n",
      "bestIteration = 1499\n",
      "\n",
      "0:\tlearn: 0.2166898\ttest: 0.2139208\tbest: 0.2139208 (0)\ttotal: 281ms\tremaining: 7m 1s\n",
      "100:\tlearn: 0.0562318\ttest: 0.0575978\tbest: 0.0575978 (100)\ttotal: 31.9s\tremaining: 7m 31s\n",
      "200:\tlearn: 0.0397221\ttest: 0.0420059\tbest: 0.0420059 (200)\ttotal: 1m 6s\tremaining: 7m 17s\n",
      "300:\tlearn: 0.0305895\ttest: 0.0336337\tbest: 0.0336337 (300)\ttotal: 1m 37s\tremaining: 6m 38s\n",
      "400:\tlearn: 0.0248918\ttest: 0.0286348\tbest: 0.0286348 (400)\ttotal: 2m 4s\tremaining: 5m 47s\n",
      "500:\tlearn: 0.0208821\ttest: 0.0253844\tbest: 0.0253844 (500)\ttotal: 2m 31s\tremaining: 5m 6s\n",
      "600:\tlearn: 0.0178312\ttest: 0.0230383\tbest: 0.0230383 (600)\ttotal: 2m 58s\tremaining: 4m 29s\n",
      "700:\tlearn: 0.0154744\ttest: 0.0213671\tbest: 0.0213671 (700)\ttotal: 3m 27s\tremaining: 3m 59s\n",
      "800:\tlearn: 0.0134817\ttest: 0.0200426\tbest: 0.0200426 (800)\ttotal: 3m 56s\tremaining: 3m 28s\n",
      "900:\tlearn: 0.0117523\ttest: 0.0189730\tbest: 0.0189730 (900)\ttotal: 4m 23s\tremaining: 2m 56s\n",
      "1000:\tlearn: 0.0103637\ttest: 0.0181915\tbest: 0.0181915 (1000)\ttotal: 4m 50s\tremaining: 2m 26s\n",
      "1100:\tlearn: 0.0091103\ttest: 0.0175355\tbest: 0.0175355 (1100)\ttotal: 5m 17s\tremaining: 1m 55s\n",
      "1200:\tlearn: 0.0081102\ttest: 0.0170546\tbest: 0.0170546 (1200)\ttotal: 5m 46s\tremaining: 1m 26s\n",
      "1300:\tlearn: 0.0072218\ttest: 0.0166771\tbest: 0.0166771 (1300)\ttotal: 6m 13s\tremaining: 57.5s\n",
      "1400:\tlearn: 0.0064575\ttest: 0.0163728\tbest: 0.0163728 (1400)\ttotal: 6m 39s\tremaining: 28.5s\n"
     ]
    },
    {
     "name": "stderr",
     "output_type": "stream",
     "text": [
      "2024-10-30 23:05:42,976 - INFO - Pearson R for fold 3: 0.9974\n",
      "2024-10-30 23:05:42,977 - INFO - Training fold 4\n"
     ]
    },
    {
     "name": "stdout",
     "output_type": "stream",
     "text": [
      "1499:\tlearn: 0.0058068\ttest: 0.0161421\tbest: 0.0161421 (1499)\ttotal: 7m 13s\tremaining: 0us\n",
      "\n",
      "bestTest = 0.01614205505\n",
      "bestIteration = 1499\n",
      "\n",
      "0:\tlearn: 0.2158001\ttest: 0.2136690\tbest: 0.2136690 (0)\ttotal: 285ms\tremaining: 7m 7s\n",
      "100:\tlearn: 0.0565309\ttest: 0.0585398\tbest: 0.0585398 (100)\ttotal: 32.1s\tremaining: 7m 33s\n",
      "200:\tlearn: 0.0394014\ttest: 0.0426211\tbest: 0.0426211 (200)\ttotal: 1m 8s\tremaining: 7m 38s\n",
      "300:\tlearn: 0.0304309\ttest: 0.0347551\tbest: 0.0347551 (300)\ttotal: 1m 38s\tremaining: 6m 40s\n",
      "400:\tlearn: 0.0250327\ttest: 0.0303686\tbest: 0.0303686 (400)\ttotal: 2m 7s\tremaining: 5m 56s\n",
      "500:\tlearn: 0.0211623\ttest: 0.0274028\tbest: 0.0274028 (500)\ttotal: 2m 34s\tremaining: 5m 13s\n",
      "600:\tlearn: 0.0180121\ttest: 0.0251521\tbest: 0.0251521 (600)\ttotal: 3m 1s\tremaining: 4m 35s\n",
      "700:\tlearn: 0.0155039\ttest: 0.0235424\tbest: 0.0235424 (700)\ttotal: 3m 31s\tremaining: 4m 3s\n",
      "800:\tlearn: 0.0134609\ttest: 0.0223137\tbest: 0.0223137 (800)\ttotal: 4m\tremaining: 3m 32s\n",
      "900:\tlearn: 0.0117690\ttest: 0.0213964\tbest: 0.0213964 (900)\ttotal: 4m 29s\tremaining: 3m 1s\n",
      "1000:\tlearn: 0.0103675\ttest: 0.0206807\tbest: 0.0206807 (1000)\ttotal: 5m 4s\tremaining: 2m 33s\n",
      "1100:\tlearn: 0.0091135\ttest: 0.0201428\tbest: 0.0201428 (1100)\ttotal: 5m 36s\tremaining: 2m 3s\n",
      "1200:\tlearn: 0.0080477\ttest: 0.0197182\tbest: 0.0197182 (1200)\ttotal: 6m 5s\tremaining: 1m 32s\n",
      "1300:\tlearn: 0.0071653\ttest: 0.0193952\tbest: 0.0193952 (1300)\ttotal: 6m 32s\tremaining: 1m\n",
      "1400:\tlearn: 0.0063862\ttest: 0.0191351\tbest: 0.0191351 (1400)\ttotal: 6m 59s\tremaining: 30s\n"
     ]
    },
    {
     "name": "stderr",
     "output_type": "stream",
     "text": [
      "2024-10-30 23:12:30,614 - INFO - Pearson R for fold 4: 0.9964\n",
      "2024-10-30 23:12:30,615 - INFO - Training fold 5\n"
     ]
    },
    {
     "name": "stdout",
     "output_type": "stream",
     "text": [
      "1499:\tlearn: 0.0057117\ttest: 0.0189372\tbest: 0.0189372 (1499)\ttotal: 7m 25s\tremaining: 0us\n",
      "\n",
      "bestTest = 0.01893715577\n",
      "bestIteration = 1499\n",
      "\n",
      "0:\tlearn: 0.2140794\ttest: 0.2143271\tbest: 0.2143271 (0)\ttotal: 286ms\tremaining: 7m 7s\n",
      "100:\tlearn: 0.0562014\ttest: 0.0572823\tbest: 0.0572823 (100)\ttotal: 27.4s\tremaining: 6m 20s\n",
      "200:\tlearn: 0.0398311\ttest: 0.0418923\tbest: 0.0418923 (200)\ttotal: 57s\tremaining: 6m 10s\n",
      "300:\tlearn: 0.0306259\ttest: 0.0336386\tbest: 0.0336386 (300)\ttotal: 1m 28s\tremaining: 5m 58s\n",
      "400:\tlearn: 0.0251647\ttest: 0.0290188\tbest: 0.0290188 (400)\ttotal: 1m 58s\tremaining: 5m 28s\n",
      "500:\tlearn: 0.0209767\ttest: 0.0256892\tbest: 0.0256892 (500)\ttotal: 2m 35s\tremaining: 5m 15s\n",
      "600:\tlearn: 0.0178947\ttest: 0.0233788\tbest: 0.0233788 (600)\ttotal: 3m 2s\tremaining: 4m 36s\n",
      "700:\tlearn: 0.0153647\ttest: 0.0215886\tbest: 0.0215886 (700)\ttotal: 3m 29s\tremaining: 4m 1s\n",
      "800:\tlearn: 0.0132683\ttest: 0.0202257\tbest: 0.0202257 (800)\ttotal: 3m 56s\tremaining: 3m 28s\n",
      "900:\tlearn: 0.0116199\ttest: 0.0192239\tbest: 0.0192239 (900)\ttotal: 4m 31s\tremaining: 3m 2s\n",
      "1000:\tlearn: 0.0101523\ttest: 0.0184326\tbest: 0.0184326 (1000)\ttotal: 4m 58s\tremaining: 2m 30s\n",
      "1100:\tlearn: 0.0089708\ttest: 0.0178490\tbest: 0.0178490 (1100)\ttotal: 5m 25s\tremaining: 1m 59s\n",
      "1200:\tlearn: 0.0079213\ttest: 0.0173753\tbest: 0.0173753 (1200)\ttotal: 5m 57s\tremaining: 1m 30s\n",
      "1300:\tlearn: 0.0070386\ttest: 0.0169964\tbest: 0.0169964 (1300)\ttotal: 6m 27s\tremaining: 59.9s\n",
      "1400:\tlearn: 0.0062925\ttest: 0.0167290\tbest: 0.0167290 (1400)\ttotal: 6m 59s\tremaining: 30s\n",
      "1499:\tlearn: 0.0056633\ttest: 0.0165185\tbest: 0.0165185 (1499)\ttotal: 7m 26s\tremaining: 0us\n",
      "\n",
      "bestTest = 0.01651854759\n",
      "bestIteration = 1499\n",
      "\n"
     ]
    },
    {
     "name": "stderr",
     "output_type": "stream",
     "text": [
      "2024-10-30 23:19:20,890 - INFO - Pearson R for fold 5: 0.9972\n",
      "2024-10-30 23:19:20,891 - INFO - Training fold 6\n"
     ]
    },
    {
     "name": "stdout",
     "output_type": "stream",
     "text": [
      "0:\tlearn: 0.2050414\ttest: 0.2142291\tbest: 0.2142291 (0)\ttotal: 284ms\tremaining: 7m 5s\n",
      "100:\tlearn: 0.0551357\ttest: 0.0655137\tbest: 0.0655137 (100)\ttotal: 32.3s\tremaining: 7m 36s\n",
      "200:\tlearn: 0.0410946\ttest: 0.0521423\tbest: 0.0521423 (200)\ttotal: 1m 1s\tremaining: 6m 46s\n",
      "300:\tlearn: 0.0313199\ttest: 0.0442634\tbest: 0.0442634 (300)\ttotal: 1m 28s\tremaining: 5m 58s\n",
      "400:\tlearn: 0.0253446\ttest: 0.0401644\tbest: 0.0401644 (400)\ttotal: 2m\tremaining: 5m 36s\n",
      "500:\tlearn: 0.0212064\ttest: 0.0376817\tbest: 0.0376817 (500)\ttotal: 2m 30s\tremaining: 5m 4s\n",
      "600:\tlearn: 0.0180435\ttest: 0.0359951\tbest: 0.0359951 (600)\ttotal: 2m 57s\tremaining: 4m 28s\n",
      "700:\tlearn: 0.0154701\ttest: 0.0347641\tbest: 0.0347641 (700)\ttotal: 3m 31s\tremaining: 4m 5s\n",
      "800:\tlearn: 0.0134452\ttest: 0.0339288\tbest: 0.0339288 (800)\ttotal: 4m 1s\tremaining: 3m 33s\n",
      "900:\tlearn: 0.0118229\ttest: 0.0333011\tbest: 0.0333011 (900)\ttotal: 4m 35s\tremaining: 3m 6s\n",
      "1000:\tlearn: 0.0104472\ttest: 0.0328502\tbest: 0.0328502 (1000)\ttotal: 5m 7s\tremaining: 2m 36s\n",
      "1100:\tlearn: 0.0092403\ttest: 0.0324915\tbest: 0.0324915 (1100)\ttotal: 5m 37s\tremaining: 2m 4s\n",
      "1200:\tlearn: 0.0082141\ttest: 0.0322367\tbest: 0.0322367 (1200)\ttotal: 6m 4s\tremaining: 1m 32s\n",
      "1300:\tlearn: 0.0073307\ttest: 0.0320426\tbest: 0.0320418 (1299)\ttotal: 6m 34s\tremaining: 1m 1s\n",
      "1400:\tlearn: 0.0065976\ttest: 0.0318902\tbest: 0.0318902 (1400)\ttotal: 7m 6s\tremaining: 30.6s\n"
     ]
    },
    {
     "name": "stderr",
     "output_type": "stream",
     "text": [
      "2024-10-30 23:26:11,063 - INFO - Pearson R for fold 6: 0.9899\n",
      "2024-10-30 23:26:11,064 - INFO - Training fold 7\n"
     ]
    },
    {
     "name": "stdout",
     "output_type": "stream",
     "text": [
      "1499:\tlearn: 0.0059088\ttest: 0.0317749\tbest: 0.0317749 (1499)\ttotal: 7m 32s\tremaining: 0us\n",
      "\n",
      "bestTest = 0.03177491903\n",
      "bestIteration = 1499\n",
      "\n",
      "0:\tlearn: 0.2138576\ttest: 0.2137389\tbest: 0.2137389 (0)\ttotal: 287ms\tremaining: 7m 10s\n",
      "100:\tlearn: 0.0556997\ttest: 0.0575149\tbest: 0.0575149 (100)\ttotal: 35s\tremaining: 8m 14s\n",
      "200:\tlearn: 0.0395116\ttest: 0.0428393\tbest: 0.0428393 (200)\ttotal: 1m 4s\tremaining: 7m 4s\n",
      "300:\tlearn: 0.0306404\ttest: 0.0353374\tbest: 0.0353374 (300)\ttotal: 1m 31s\tremaining: 6m 9s\n",
      "400:\tlearn: 0.0249467\ttest: 0.0308159\tbest: 0.0308159 (400)\ttotal: 1m 59s\tremaining: 5m 28s\n",
      "500:\tlearn: 0.0209479\ttest: 0.0278193\tbest: 0.0278193 (500)\ttotal: 2m 28s\tremaining: 4m 58s\n",
      "600:\tlearn: 0.0180310\ttest: 0.0257859\tbest: 0.0257859 (600)\ttotal: 2m 55s\tremaining: 4m 24s\n",
      "700:\tlearn: 0.0156017\ttest: 0.0242359\tbest: 0.0242359 (700)\ttotal: 3m 28s\tremaining: 3m 59s\n",
      "800:\tlearn: 0.0136802\ttest: 0.0230877\tbest: 0.0230877 (800)\ttotal: 3m 57s\tremaining: 3m 29s\n",
      "900:\tlearn: 0.0120751\ttest: 0.0222202\tbest: 0.0222202 (900)\ttotal: 4m 24s\tremaining: 2m 57s\n",
      "1000:\tlearn: 0.0106788\ttest: 0.0215083\tbest: 0.0215083 (1000)\ttotal: 4m 52s\tremaining: 2m 26s\n",
      "1100:\tlearn: 0.0094938\ttest: 0.0209593\tbest: 0.0209593 (1100)\ttotal: 5m 28s\tremaining: 2m\n",
      "1200:\tlearn: 0.0084740\ttest: 0.0205409\tbest: 0.0205409 (1200)\ttotal: 5m 56s\tremaining: 1m 29s\n",
      "1300:\tlearn: 0.0075818\ttest: 0.0202084\tbest: 0.0202084 (1300)\ttotal: 6m 23s\tremaining: 59.2s\n",
      "1400:\tlearn: 0.0068015\ttest: 0.0199431\tbest: 0.0199431 (1400)\ttotal: 6m 50s\tremaining: 29.3s\n"
     ]
    },
    {
     "name": "stderr",
     "output_type": "stream",
     "text": [
      "2024-10-30 23:33:01,882 - INFO - Pearson R for fold 7: 0.9960\n",
      "2024-10-30 23:33:01,883 - INFO - Training fold 8\n"
     ]
    },
    {
     "name": "stdout",
     "output_type": "stream",
     "text": [
      "1499:\tlearn: 0.0060944\ttest: 0.0197192\tbest: 0.0197192 (1499)\ttotal: 7m 17s\tremaining: 0us\n",
      "\n",
      "bestTest = 0.01971921888\n",
      "bestIteration = 1499\n",
      "\n",
      "0:\tlearn: 0.2153239\ttest: 0.2141585\tbest: 0.2141585 (0)\ttotal: 286ms\tremaining: 7m 8s\n",
      "100:\tlearn: 0.0570988\ttest: 0.0568304\tbest: 0.0568304 (100)\ttotal: 32.7s\tremaining: 7m 37s\n",
      "200:\tlearn: 0.0401412\ttest: 0.0408457\tbest: 0.0408457 (200)\ttotal: 1m\tremaining: 6m 29s\n",
      "300:\tlearn: 0.0314918\ttest: 0.0329425\tbest: 0.0329425 (300)\ttotal: 1m 27s\tremaining: 5m 49s\n",
      "400:\tlearn: 0.0254202\ttest: 0.0276007\tbest: 0.0276007 (400)\ttotal: 1m 54s\tremaining: 5m 15s\n",
      "500:\tlearn: 0.0210720\ttest: 0.0239327\tbest: 0.0239327 (500)\ttotal: 2m 22s\tremaining: 4m 43s\n",
      "600:\tlearn: 0.0179246\ttest: 0.0213955\tbest: 0.0213955 (600)\ttotal: 2m 49s\tremaining: 4m 13s\n",
      "700:\tlearn: 0.0155616\ttest: 0.0195950\tbest: 0.0195950 (700)\ttotal: 3m 19s\tremaining: 3m 47s\n",
      "800:\tlearn: 0.0135650\ttest: 0.0181539\tbest: 0.0181539 (800)\ttotal: 3m 48s\tremaining: 3m 20s\n",
      "900:\tlearn: 0.0120050\ttest: 0.0171176\tbest: 0.0171176 (900)\ttotal: 4m 23s\tremaining: 2m 56s\n",
      "1000:\tlearn: 0.0106331\ttest: 0.0162534\tbest: 0.0162534 (1000)\ttotal: 4m 53s\tremaining: 2m 27s\n",
      "1100:\tlearn: 0.0094335\ttest: 0.0155467\tbest: 0.0155467 (1100)\ttotal: 5m 20s\tremaining: 1m 56s\n",
      "1200:\tlearn: 0.0084895\ttest: 0.0150289\tbest: 0.0150289 (1200)\ttotal: 5m 48s\tremaining: 1m 27s\n",
      "1300:\tlearn: 0.0076620\ttest: 0.0146095\tbest: 0.0146095 (1300)\ttotal: 6m 15s\tremaining: 57.7s\n",
      "1400:\tlearn: 0.0068840\ttest: 0.0142362\tbest: 0.0142362 (1400)\ttotal: 6m 52s\tremaining: 29.4s\n"
     ]
    },
    {
     "name": "stderr",
     "output_type": "stream",
     "text": [
      "2024-10-30 23:39:54,529 - INFO - Pearson R for fold 8: 0.9980\n",
      "2024-10-30 23:39:54,530 - INFO - Training fold 9\n"
     ]
    },
    {
     "name": "stdout",
     "output_type": "stream",
     "text": [
      "1499:\tlearn: 0.0061334\ttest: 0.0139048\tbest: 0.0139048 (1499)\ttotal: 7m 27s\tremaining: 0us\n",
      "\n",
      "bestTest = 0.01390475446\n",
      "bestIteration = 1499\n",
      "\n",
      "0:\tlearn: 0.2153054\ttest: 0.2135672\tbest: 0.2135672 (0)\ttotal: 288ms\tremaining: 7m 12s\n",
      "100:\tlearn: 0.0563331\ttest: 0.0570709\tbest: 0.0570709 (100)\ttotal: 27.7s\tremaining: 6m 23s\n",
      "200:\tlearn: 0.0399232\ttest: 0.0417334\tbest: 0.0417334 (200)\ttotal: 57.8s\tremaining: 6m 13s\n",
      "300:\tlearn: 0.0309541\ttest: 0.0336546\tbest: 0.0336546 (300)\ttotal: 1m 24s\tremaining: 5m 39s\n",
      "400:\tlearn: 0.0251854\ttest: 0.0287009\tbest: 0.0287009 (400)\ttotal: 1m 54s\tremaining: 5m 15s\n",
      "500:\tlearn: 0.0211369\ttest: 0.0254050\tbest: 0.0254050 (500)\ttotal: 2m 26s\tremaining: 4m 55s\n",
      "600:\tlearn: 0.0180942\ttest: 0.0230719\tbest: 0.0230719 (600)\ttotal: 2m 57s\tremaining: 4m 27s\n",
      "700:\tlearn: 0.0157322\ttest: 0.0214004\tbest: 0.0214004 (700)\ttotal: 3m 37s\tremaining: 4m 11s\n",
      "800:\tlearn: 0.0137698\ttest: 0.0200736\tbest: 0.0200736 (800)\ttotal: 4m 24s\tremaining: 3m 56s\n",
      "900:\tlearn: 0.0120584\ttest: 0.0189689\tbest: 0.0189689 (900)\ttotal: 4m 59s\tremaining: 3m 24s\n",
      "1000:\tlearn: 0.0106504\ttest: 0.0181679\tbest: 0.0181679 (1000)\ttotal: 5m 47s\tremaining: 2m 58s\n",
      "1100:\tlearn: 0.0094883\ttest: 0.0175396\tbest: 0.0175396 (1100)\ttotal: 6m 27s\tremaining: 2m 25s\n",
      "1200:\tlearn: 0.0084472\ttest: 0.0170212\tbest: 0.0170212 (1200)\ttotal: 7m 2s\tremaining: 1m 48s\n",
      "1300:\tlearn: 0.0075017\ttest: 0.0165974\tbest: 0.0165974 (1300)\ttotal: 7m 44s\tremaining: 1m 13s\n",
      "1400:\tlearn: 0.0067128\ttest: 0.0162686\tbest: 0.0162686 (1400)\ttotal: 8m 29s\tremaining: 37.4s\n"
     ]
    },
    {
     "name": "stderr",
     "output_type": "stream",
     "text": [
      "2024-10-30 23:46:54,104 - INFO - Pearson R for fold 9: 0.9974\n",
      "2024-10-30 23:46:54,105 - INFO - Training fold 10\n"
     ]
    },
    {
     "name": "stdout",
     "output_type": "stream",
     "text": [
      "1499:\tlearn: 0.0060679\ttest: 0.0160269\tbest: 0.0160269 (1499)\ttotal: 9m 11s\tremaining: 0us\n",
      "\n",
      "bestTest = 0.01602685218\n",
      "bestIteration = 1499\n",
      "\n",
      "0:\tlearn: 0.2122842\ttest: 0.2142415\tbest: 0.2142415 (0)\ttotal: 294ms\tremaining: 7m 20s\n",
      "100:\tlearn: 0.0566153\ttest: 0.0600077\tbest: 0.0600077 (100)\ttotal: 45.6s\tremaining: 11m 12s\n",
      "200:\tlearn: 0.0428313\ttest: 0.0465449\tbest: 0.0465449 (200)\ttotal: 1m 21s\tremaining: 9m 8s\n",
      "300:\tlearn: 0.0330257\ttest: 0.0377329\tbest: 0.0377329 (300)\ttotal: 2m 3s\tremaining: 8m 38s\n",
      "400:\tlearn: 0.0267395\ttest: 0.0325503\tbest: 0.0325503 (400)\ttotal: 2m 44s\tremaining: 7m 53s\n",
      "500:\tlearn: 0.0222486\ttest: 0.0291666\tbest: 0.0291666 (500)\ttotal: 3m 21s\tremaining: 7m 2s\n",
      "600:\tlearn: 0.0188532\ttest: 0.0268253\tbest: 0.0268253 (600)\ttotal: 4m 9s\tremaining: 6m 33s\n",
      "700:\tlearn: 0.0162285\ttest: 0.0251221\tbest: 0.0251221 (700)\ttotal: 4m 52s\tremaining: 5m 52s\n",
      "800:\tlearn: 0.0140791\ttest: 0.0238575\tbest: 0.0238575 (800)\ttotal: 5m 35s\tremaining: 5m 9s\n",
      "900:\tlearn: 0.0122822\ttest: 0.0229051\tbest: 0.0229051 (900)\ttotal: 6m 13s\tremaining: 4m 22s\n",
      "1000:\tlearn: 0.0108274\ttest: 0.0221936\tbest: 0.0221936 (1000)\ttotal: 6m 53s\tremaining: 3m 37s\n",
      "1100:\tlearn: 0.0095711\ttest: 0.0216500\tbest: 0.0216500 (1100)\ttotal: 7m 24s\tremaining: 2m 49s\n",
      "1200:\tlearn: 0.0085043\ttest: 0.0212271\tbest: 0.0212271 (1200)\ttotal: 8m 5s\tremaining: 2m 6s\n",
      "1300:\tlearn: 0.0075991\ttest: 0.0209078\tbest: 0.0209078 (1300)\ttotal: 8m 38s\tremaining: 1m 23s\n",
      "1400:\tlearn: 0.0068078\ttest: 0.0206509\tbest: 0.0206509 (1400)\ttotal: 9m 16s\tremaining: 41.2s\n"
     ]
    },
    {
     "name": "stderr",
     "output_type": "stream",
     "text": [
      "2024-10-30 23:54:01,684 - INFO - Pearson R for fold 10: 0.9958\n",
      "2024-10-30 23:54:01,685 - INFO - Overall Pearson R: 0.9992\n"
     ]
    },
    {
     "name": "stdout",
     "output_type": "stream",
     "text": [
      "1499:\tlearn: 0.0060932\ttest: 0.0204365\tbest: 0.0204365 (1499)\ttotal: 9m 50s\tremaining: 0us\n",
      "\n",
      "bestTest = 0.02043646593\n",
      "bestIteration = 1499\n",
      "\n"
     ]
    }
   ],
   "source": [
    "\n",
    "catboost_params =  {'iterations': 1291, 'depth': 7, 'learning_rate': 0.05010892239806417, 'l2_leaf_reg': 5.6539994243603005}\n",
    "\n",
    "models, oof_predictions = train_catboost(train_features,train_targets, catboost_params)"
   ]
  },
  {
   "cell_type": "code",
   "execution_count": null,
   "id": "c0d49b00-0ca4-447c-8ef2-a9abadc76a64",
   "metadata": {},
   "outputs": [],
   "source": [
    "testing_the_predictions = np.array([model.predict(train_features) for model in models])\n",
    "testing_the_predictions.shape "
   ]
  },
  {
   "cell_type": "code",
   "execution_count": null,
   "id": "1d3fc94c-7ab3-4cb3-9dcb-54eea468d58c",
   "metadata": {},
   "outputs": [],
   "source": [
    "np.save(\"/home/modar/Compete/preprocessed_data/meta_train.npy\", testing_the_predictions)"
   ]
  },
  {
   "cell_type": "code",
   "execution_count": null,
   "id": "079a53f7-e255-45cf-9e4d-3b00cfc66f8d",
   "metadata": {},
   "outputs": [],
   "source": [
    "testing_the_predictions = np.mean(testing_the_predictions,axis=0)\n",
    "testing_the_predictions.shape , train_targets.shape ,  pearsonr(testing_the_predictions,train_targets)"
   ]
  },
  {
   "cell_type": "code",
   "execution_count": null,
   "id": "9e8696ae-4c44-445e-8413-d01896fbe3ee",
   "metadata": {},
   "outputs": [],
   "source": [
    "from sklearn.metrics import mean_squared_error as mse\n",
    "results_df = pd.DataFrame({\n",
    "    'Image_Index': np.arange(len(train_targets)),\n",
    "    'True_Values': train_targets,\n",
    "    'Predictions': oof_predictions\n",
    "})\n",
    "\n",
    "results_df['MSE'] = (results_df['True_Values'] - results_df['Predictions']) ** 2\n",
    "\n",
    "sorted_results = results_df.sort_values(by='MSE')\n",
    "\n",
    "best_images = sorted_results.head(10)  \n",
    "worst_images = sorted_results.tail(200) \n",
    "\n",
    "print(\"Best Performing Images (Lowest MSE):\")\n",
    "print(best_images)\n",
    "\n",
    "print(\"\\nWorst Performing Images (Highest MSE):\")\n",
    "print(worst_images)\n",
    "\n",
    "print(\"\\nWorst Performing indices (Highest MSE):\")\n",
    "print(sorted_results.tail(200)['Image_Index'].values)\n",
    "\n",
    "print(\"\\nBest Performing indices (Highest MSE):\")\n",
    "print(sorted_results.head(200)['Image_Index'].values)"
   ]
  },
  {
   "cell_type": "code",
   "execution_count": null,
   "id": "43209470-2bc7-404d-b462-581bd5bfc3ef",
   "metadata": {},
   "outputs": [],
   "source": [
    "df = pd.DataFrame({\n",
    "    'True_Target': train_targets,\n",
    "    'Predictions': oof_predictions\n",
    "})\n",
    "\n",
    "df.to_csv('/home/modar/Compete/models_predictions/catboost_predictions_and_targets.csv', index=False)\n",
    "\n",
    "print(\"DataFrame saved to 'catboost_predictions_and_targets.csv'\")"
   ]
  },
  {
   "cell_type": "code",
   "execution_count": null,
   "id": "1615b0bb-77b2-4344-8449-36e8ecd686d5",
   "metadata": {},
   "outputs": [],
   "source": [
    "np.save(\"/home/modar/Compete/models_predictions/catboost_train_preds.npy\" , oof_predictions)\n",
    "np.save(\"/home/modar/Compete/models_predictions/train_labels.npy\" , train_targets)\n",
    "\n",
    "train_targets.shape , oof_predictions.shape"
   ]
  },
  {
   "cell_type": "code",
   "execution_count": null,
   "id": "d53e4a9d-50b2-44ea-a612-1b159a1b76d6",
   "metadata": {},
   "outputs": [],
   "source": [
    "train_targets[:5].tolist()"
   ]
  },
  {
   "cell_type": "code",
   "execution_count": null,
   "id": "ab7bb8f2-a2e4-445f-af1a-0e4057ca3fa1",
   "metadata": {},
   "outputs": [],
   "source": [
    "oof_predictions[:5].tolist()"
   ]
  },
  {
   "cell_type": "code",
   "execution_count": null,
   "id": "7d0d6e1d-e6da-4139-bb51-6177d8c4a30b",
   "metadata": {},
   "outputs": [],
   "source": [
    "###############################################################################################################################################################\n",
    "##################################################### Here is features importance analysis ##########################################################################################################\n",
    "###############################################################################################################################################################"
   ]
  },
  {
   "cell_type": "code",
   "execution_count": 97,
   "id": "8c4c96cf-c11a-4388-b821-90810454327b",
   "metadata": {},
   "outputs": [
    {
     "data": {
      "image/png": "[encoded data removed]",
      "text/plain": [
       "<Figure size 1200x800 with 1 Axes>"
      ]
     },
     "metadata": {},
     "output_type": "display_data"
    }
   ],
   "source": [
    "feature_importances = np.mean([model.feature_importances_ for model in models], axis=0)\n",
    "feature_names = [f'Feature_{i}' for i in range(train_features[:,filtered_features].shape[1])]\n",
    "\n",
    "plt.figure(figsize=(12, 8))\n",
    "plt.barh(feature_names, feature_importances)\n",
    "plt.xlabel('Feature Importance')\n",
    "plt.ylabel('Features')\n",
    "plt.title('CatBoost Feature Importances')\n",
    "plt.show()"
   ]
  },
  {
   "cell_type": "code",
   "execution_count": 98,
   "id": "2653436d-3bb3-455d-b919-ab2c33eff5f2",
   "metadata": {},
   "outputs": [
    {
     "data": {
      "text/plain": [
       "(array([0.02933455, 0.00651655, 0.00184835, 0.04027615, 0.00406379,\n",
       "        0.01686722, 0.032555  , 0.04582854, 0.04614484, 0.00274502]),\n",
       " ['Feature_0',\n",
       "  'Feature_1',\n",
       "  'Feature_2',\n",
       "  'Feature_3',\n",
       "  'Feature_4',\n",
       "  'Feature_5',\n",
       "  'Feature_6',\n",
       "  'Feature_7',\n",
       "  'Feature_8',\n",
       "  'Feature_9'],\n",
       " 7.885944975862295)"
      ]
     },
     "execution_count": 98,
     "metadata": {},
     "output_type": "execute_result"
    }
   ],
   "source": [
    "feature_importances[:10] , feature_names[:10] , feature_importances.max() / np.cumsum(feature_importances)[-1] * 100"
   ]
  },
  {
   "cell_type": "code",
   "execution_count": 99,
   "id": "52d6f728-efdc-4743-93a6-f71ad6852fc8",
   "metadata": {},
   "outputs": [
    {
     "data": {
      "text/plain": [
       "97.84713611121066"
      ]
     },
     "execution_count": 99,
     "metadata": {},
     "output_type": "execute_result"
    }
   ],
   "source": [
    "\n",
    "feature_importances_sorted = np.flip(np.sort(feature_importances))\n",
    "feature_importances_sorted[0:700].cumsum()[-1]"
   ]
  },
  {
   "cell_type": "code",
   "execution_count": 100,
   "id": "b2fca5e3-7277-42cc-bca0-d7af9c03e3f8",
   "metadata": {},
   "outputs": [
    {
     "data": {
      "text/plain": [
       "0.014137059324289825"
      ]
     },
     "execution_count": 100,
     "metadata": {},
     "output_type": "execute_result"
    }
   ],
   "source": [
    "np.min(feature_importances_sorted[0:700])"
   ]
  },
  {
   "cell_type": "code",
   "execution_count": 101,
   "id": "f9e8972e-d058-4471-af7b-b39a65536da8",
   "metadata": {},
   "outputs": [
    {
     "data": {
      "text/plain": [
       "7.885944975862292"
      ]
     },
     "execution_count": 101,
     "metadata": {},
     "output_type": "execute_result"
    }
   ],
   "source": [
    "np.max(feature_importances_sorted)"
   ]
  },
  {
   "cell_type": "code",
   "execution_count": 102,
   "id": "663c2f6e-11a7-485e-a20e-ad7f78dd6e51",
   "metadata": {},
   "outputs": [
    {
     "data": {
      "text/plain": [
       "((700,), (1000,))"
      ]
     },
     "execution_count": 102,
     "metadata": {},
     "output_type": "execute_result"
    }
   ],
   "source": [
    "feature_names = np.array(feature_names)\n",
    "feature_importances = np.array(feature_importances)\n",
    "feature_names_filtered = feature_names[feature_importances >= 0.014137059324289825]\n",
    "feature_names_filtered.shape , feature_names.shape"
   ]
  },
  {
   "cell_type": "code",
   "execution_count": 61,
   "id": "7e3d6403-e108-48f3-9d62-7c71755ede3d",
   "metadata": {},
   "outputs": [
    {
     "data": {
      "text/plain": [
       "'4'"
      ]
     },
     "execution_count": 61,
     "metadata": {},
     "output_type": "execute_result"
    }
   ],
   "source": [
    "feature_names_filtered[0][8:]"
   ]
  },
  {
   "cell_type": "code",
   "execution_count": 103,
   "id": "086fb2d0-d015-49c8-a7db-09200a27649f",
   "metadata": {},
   "outputs": [
    {
     "data": {
      "text/plain": [
       "(700,)"
      ]
     },
     "execution_count": 103,
     "metadata": {},
     "output_type": "execute_result"
    }
   ],
   "source": [
    "filtered_features = []\n",
    "for name in feature_names_filtered:\n",
    "    filtered_features.append(name[8:])\n",
    "filtered_features = np.array(filtered_features,dtype=np.uint)\n",
    "filtered_features.shape"
   ]
  },
  {
   "cell_type": "code",
   "execution_count": null,
   "id": "30ff69af-9a04-4a24-8b10-0865ee5deb71",
   "metadata": {},
   "outputs": [],
   "source": [
    "###############################################################################################################################################################\n",
    "####################################################################################################################################################################################################################\n",
    "############################################################################################################################################################### ##########################################################################################################\n",
    "###############################################################################################################################################################"
   ]
  },
  {
   "cell_type": "code",
   "execution_count": 11,
   "id": "9f38022a-b720-44a6-867e-102a5388fb05",
   "metadata": {},
   "outputs": [
    {
     "data": {
      "text/plain": [
       "(1489, 2355)"
      ]
     },
     "execution_count": 11,
     "metadata": {},
     "output_type": "execute_result"
    }
   ],
   "source": [
    "test_features.shape "
   ]
  },
  {
   "cell_type": "code",
   "execution_count": 105,
   "id": "cfafdba2-ca9c-4ab9-b8b5-890de1f8de42",
   "metadata": {},
   "outputs": [
    {
     "data": {
      "text/plain": [
       "(1489, 700)"
      ]
     },
     "execution_count": 105,
     "metadata": {},
     "output_type": "execute_result"
    }
   ],
   "source": [
    "### Use this cell if the filtered features were computed\n",
    "test_features = test_features[:,filtered_features]\n",
    "test_features.shape"
   ]
  },
  {
   "cell_type": "code",
   "execution_count": 21,
   "id": "b4b5748d-c740-4948-bf3a-63a217790188",
   "metadata": {},
   "outputs": [
    {
     "data": {
      "text/plain": [
       "(10, (1489,), (1489, 2355))"
      ]
     },
     "execution_count": 21,
     "metadata": {},
     "output_type": "execute_result"
    }
   ],
   "source": [
    "test_predictions = [(model.predict(test_features)) for model in models]\n",
    "len(test_predictions) , test_predictions[0].shape , test_features.shape"
   ]
  },
  {
   "cell_type": "code",
   "execution_count": 13,
   "id": "32daeb76-1881-4619-a945-db2ce39fecce",
   "metadata": {},
   "outputs": [],
   "source": [
    "np.save(\"/home/modar/Compete/preprocessed_data/meta_test.npy\", test_predictions)"
   ]
  },
  {
   "cell_type": "code",
   "execution_count": null,
   "id": "a04efe4f-249d-4329-aace-05a2b1ce2350",
   "metadata": {},
   "outputs": [],
   "source": [
    "weights = [0.9968,0.9963,0.9982,0.9946,0.9980,0.9972,0.9973,0.9887 ,0.9948 , 0.9980]\n",
    "len(weights)"
   ]
  },
  {
   "cell_type": "code",
   "execution_count": 22,
   "id": "152839c7-9c26-41e3-9e73-a1d9ff6a5e2c",
   "metadata": {},
   "outputs": [],
   "source": [
    "#test_predictions = np.average(test_predictions, axis=0,weights=weights)\n",
    "test_predictions = np.mean(test_predictions, axis=0)"
   ]
  },
  {
   "cell_type": "code",
   "execution_count": 23,
   "id": "8b14300b-1a91-4131-98ed-4479e4a7b21f",
   "metadata": {},
   "outputs": [
    {
     "data": {
      "text/plain": [
       "(1489,)"
      ]
     },
     "execution_count": 23,
     "metadata": {},
     "output_type": "execute_result"
    }
   ],
   "source": [
    "test_predictions.shape"
   ]
  },
  {
   "cell_type": "code",
   "execution_count": 24,
   "id": "0e9ad962-0870-4b74-a924-8319f96f721c",
   "metadata": {},
   "outputs": [
    {
     "data": {
      "text/plain": [
       "(1489,)"
      ]
     },
     "execution_count": 24,
     "metadata": {},
     "output_type": "execute_result"
    }
   ],
   "source": [
    "test_predictions_original = test_predictions\n",
    "test_predictions_original.shape"
   ]
  },
  {
   "cell_type": "code",
   "execution_count": 25,
   "id": "5848f6b8-a3bb-43eb-b4b3-fcafab7510d1",
   "metadata": {},
   "outputs": [
    {
     "name": "stdout",
     "output_type": "stream",
     "text": [
      "Predictions saved to solutionvv2.csv\n"
     ]
    }
   ],
   "source": [
    "\n",
    "test_df['aod'] = test_predictions\n",
    "test_df[['file', 'aod']].to_csv(\"/home/modar/Compete/models_predictions/larg_iter2.csv\", index=False, header=False)"
   ]
  }
 ],
 "metadata": {
  "kernelspec": {
   "display_name": "Python 3 (ipykernel)",
   "language": "python",
   "name": "python3"
  },
  "language_info": {
   "codemirror_mode": {
    "name": "ipython",
    "version": 3
   },
   "file_extension": ".py",
   "mimetype": "text/x-python",
   "name": "python",
   "nbconvert_exporter": "python",
   "pygments_lexer": "ipython3",
   "version": "3.12.3"
  }
 },
 "nbformat": 4,
 "nbformat_minor": 5
}
